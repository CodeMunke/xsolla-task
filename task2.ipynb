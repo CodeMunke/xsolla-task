{
 "cells": [
  {
   "cell_type": "code",
   "execution_count": 9,
   "metadata": {},
   "outputs": [],
   "source": [
    "import pandas as pd\n",
    "import scipy as sp\n",
    "import numpy as np\n",
    "from matplotlib import pyplot as plt\n",
    "import seaborn as sns\n",
    "\n",
    "from sklearn.ensemble import RandomForestClassifier\n",
    "from sklearn.model_selection import cross_validate , train_test_split , StratifiedShuffleSplit\n",
    "from sklearn import   linear_model, metrics\n",
    "from sklearn.linear_model import SGDClassifier as SGD\n",
    "\n",
    "from sklearn.feature_selection import SelectKBest\n",
    "from sklearn.feature_selection import chi2\n",
    "\n",
    "from statistics import mean\n",
    "from scipy import sparse\n",
    "\n",
    "import hdbscan"
   ]
  },
  {
   "cell_type": "code",
   "execution_count": 2,
   "metadata": {},
   "outputs": [],
   "source": [
    "segment_directory = \"data2/segmentation.csv\"\n",
    "\n",
    "segment = pd.read_csv(segment_directory, header=0 )"
   ]
  },
  {
   "cell_type": "code",
   "execution_count": 5,
   "metadata": {},
   "outputs": [],
   "source": [
    "data = segment[['Monetary' ,'Frequency','factor_1','factor_2' ,'factor_3' , 'factor_4']]"
   ]
  },
  {
   "cell_type": "code",
   "execution_count": 7,
   "metadata": {},
   "outputs": [
    {
     "name": "stdout",
     "output_type": "stream",
     "text": [
      "t-SNE done! Time elapsed: 90.62316799163818 seconds\n"
     ]
    },
    {
     "ename": "NameError",
     "evalue": "name 'sparse' is not defined",
     "output_type": "error",
     "traceback": [
      "\u001b[0;31m---------------------------------------------------------------------------\u001b[0m",
      "\u001b[0;31mNameError\u001b[0m                                 Traceback (most recent call last)",
      "\u001b[0;32m<ipython-input-7-f307a0189623>\u001b[0m in \u001b[0;36m<module>\u001b[0;34m\u001b[0m\n\u001b[1;32m     22\u001b[0m \u001b[0mprint\u001b[0m\u001b[0;34m(\u001b[0m\u001b[0;34m't-SNE done! Time elapsed: {} seconds'\u001b[0m\u001b[0;34m.\u001b[0m\u001b[0mformat\u001b[0m\u001b[0;34m(\u001b[0m\u001b[0mtime\u001b[0m\u001b[0;34m.\u001b[0m\u001b[0mtime\u001b[0m\u001b[0;34m(\u001b[0m\u001b[0;34m)\u001b[0m\u001b[0;34m-\u001b[0m\u001b[0mtime_start\u001b[0m\u001b[0;34m)\u001b[0m\u001b[0;34m)\u001b[0m\u001b[0;34m\u001b[0m\u001b[0;34m\u001b[0m\u001b[0m\n\u001b[1;32m     23\u001b[0m \u001b[0;34m\u001b[0m\u001b[0m\n\u001b[0;32m---> 24\u001b[0;31m \u001b[0mtsne_sparse\u001b[0m \u001b[0;34m=\u001b[0m \u001b[0msparse\u001b[0m\u001b[0;34m.\u001b[0m\u001b[0mcsr_matrix\u001b[0m\u001b[0;34m(\u001b[0m\u001b[0mtsne_results\u001b[0m\u001b[0;34m)\u001b[0m\u001b[0;34m\u001b[0m\u001b[0;34m\u001b[0m\u001b[0m\n\u001b[0m\u001b[1;32m     25\u001b[0m \u001b[0;34m\u001b[0m\u001b[0m\n\u001b[1;32m     26\u001b[0m \u001b[0;31m# tfidf_df['tsne_coord_1'] = tsne_results[:,0]\u001b[0m\u001b[0;34m\u001b[0m\u001b[0;34m\u001b[0m\u001b[0;34m\u001b[0m\u001b[0m\n",
      "\u001b[0;31mNameError\u001b[0m: name 'sparse' is not defined"
     ]
    }
   ],
   "source": [
    "from MulticoreTSNE import MulticoreTSNE as TSNE_multi\n",
    "import time\n",
    "\n",
    "# tfidf_df = DataFrame(tfidf.todense())\n",
    "# tfidf_df.index.name = 'docs'\n",
    "# cols = ['parm' + str(i) for i in range(0, tfidf_df.shape[1])]\n",
    "# tfidf_df.columns = pd.Series(cols)\n",
    "\n",
    "# tfidf_df.drop_duplicates(inplace=True)\n",
    "\n",
    "# tfidf_no_dup = sparse.csr_matrix(tfidf_df.to_numpy())\n",
    "\n",
    "# tfidf_df_subset = tfidf_df.loc[:, 'parm0':].copy()\n",
    "\n",
    "# tfidf_subset = tfidf_df_subset.to_numpy()\n",
    "data_numpy = data.to_numpy()\n",
    "\n",
    "time_start = time.time()\n",
    "tsne = TSNE_multi(n_components=2, verbose=1, perplexity=50, n_iter=2000, random_state=42, n_jobs=-1)\n",
    "\n",
    "tsne_results = tsne.fit_transform(data_numpy)\n",
    "print('t-SNE done! Time elapsed: {} seconds'.format(time.time()-time_start))\n",
    "\n",
    "\n",
    "# tfidf_df['tsne_coord_1'] = tsne_results[:,0]\n",
    "# tfidf_df['tsne_coord_2'] = tsne_results[:,1]"
   ]
  },
  {
   "cell_type": "code",
   "execution_count": 10,
   "metadata": {},
   "outputs": [],
   "source": [
    "tsne_sparse = sparse.csr_matrix(tsne_results)"
   ]
  },
  {
   "cell_type": "code",
   "execution_count": 15,
   "metadata": {},
   "outputs": [],
   "source": [
    "tsne_df = pd.DataFrame()\n",
    "tsne_df['tsne_1'] = tsne_results[:,0]\n",
    "tsne_df['tsne_2'] = tsne_results[:,1]"
   ]
  },
  {
   "cell_type": "code",
   "execution_count": 31,
   "metadata": {},
   "outputs": [
    {
     "data": {
      "text/plain": [
       "2"
      ]
     },
     "execution_count": 31,
     "metadata": {},
     "output_type": "execute_result"
    }
   ],
   "source": [
    "clusterer = hdbscan.HDBSCAN(min_cluster_size=2000, min_samples=30).fit(tsne_df)\n",
    "clusterer.labels_.max()"
   ]
  },
  {
   "cell_type": "code",
   "execution_count": 32,
   "metadata": {},
   "outputs": [
    {
     "name": "stdout",
     "output_type": "stream",
     "text": [
      "Estimated number of clusters: 3\n",
      "Estimated number of noise points: 6804\n"
     ]
    }
   ],
   "source": [
    "clusters = clusterer.labels_\n",
    "\n",
    "n_clusters_ = len(set(clusters)) - (1 if -1 in clusters else 0)\n",
    "n_noise_ = list(clusters).count(-1)\n",
    "\n",
    "print('Estimated number of clusters: %d' % n_clusters_)\n",
    "print('Estimated number of noise points: %d' % n_noise_)"
   ]
  },
  {
   "cell_type": "code",
   "execution_count": 33,
   "metadata": {},
   "outputs": [],
   "source": [
    "if 'cluster' in tsne_df.columns:\n",
    "    tsne_df = tsne_df.drop(columns='cluster')\n",
    "tsne_df.insert(0, 'cluster', clusters)"
   ]
  },
  {
   "cell_type": "code",
   "execution_count": 36,
   "metadata": {},
   "outputs": [
    {
     "ename": "TypeError",
     "evalue": "'(slice(None, None, None), 1)' is an invalid key",
     "output_type": "error",
     "traceback": [
      "\u001b[0;31m---------------------------------------------------------------------------\u001b[0m",
      "\u001b[0;31mTypeError\u001b[0m                                 Traceback (most recent call last)",
      "\u001b[0;32m<ipython-input-36-71ebb4560c9b>\u001b[0m in \u001b[0;36m<module>\u001b[0;34m\u001b[0m\n\u001b[1;32m     41\u001b[0m \u001b[0;34m\u001b[0m\u001b[0m\n\u001b[1;32m     42\u001b[0m scatter_plt_list = [plt.scatter(tsne_df[:,1], tsne_df[:,2], \n\u001b[0;32m---> 43\u001b[0;31m                                 color=color_map[i]) for i in range(-1, clusters.max() + 1)]\n\u001b[0m\u001b[1;32m     44\u001b[0m \u001b[0;34m\u001b[0m\u001b[0m\n\u001b[1;32m     45\u001b[0m \u001b[0;34m\u001b[0m\u001b[0m\n",
      "\u001b[0;32m<ipython-input-36-71ebb4560c9b>\u001b[0m in \u001b[0;36m<listcomp>\u001b[0;34m(.0)\u001b[0m\n\u001b[1;32m     41\u001b[0m \u001b[0;34m\u001b[0m\u001b[0m\n\u001b[1;32m     42\u001b[0m scatter_plt_list = [plt.scatter(tsne_df[:,1], tsne_df[:,2], \n\u001b[0;32m---> 43\u001b[0;31m                                 color=color_map[i]) for i in range(-1, clusters.max() + 1)]\n\u001b[0m\u001b[1;32m     44\u001b[0m \u001b[0;34m\u001b[0m\u001b[0m\n\u001b[1;32m     45\u001b[0m \u001b[0;34m\u001b[0m\u001b[0m\n",
      "\u001b[0;32m~/anaconda3/envs/dev/lib/python3.6/site-packages/pandas/core/frame.py\u001b[0m in \u001b[0;36m__getitem__\u001b[0;34m(self, key)\u001b[0m\n\u001b[1;32m   2798\u001b[0m             \u001b[0;32mif\u001b[0m \u001b[0mself\u001b[0m\u001b[0;34m.\u001b[0m\u001b[0mcolumns\u001b[0m\u001b[0;34m.\u001b[0m\u001b[0mnlevels\u001b[0m \u001b[0;34m>\u001b[0m \u001b[0;36m1\u001b[0m\u001b[0;34m:\u001b[0m\u001b[0;34m\u001b[0m\u001b[0;34m\u001b[0m\u001b[0m\n\u001b[1;32m   2799\u001b[0m                 \u001b[0;32mreturn\u001b[0m \u001b[0mself\u001b[0m\u001b[0;34m.\u001b[0m\u001b[0m_getitem_multilevel\u001b[0m\u001b[0;34m(\u001b[0m\u001b[0mkey\u001b[0m\u001b[0;34m)\u001b[0m\u001b[0;34m\u001b[0m\u001b[0;34m\u001b[0m\u001b[0m\n\u001b[0;32m-> 2800\u001b[0;31m             \u001b[0mindexer\u001b[0m \u001b[0;34m=\u001b[0m \u001b[0mself\u001b[0m\u001b[0;34m.\u001b[0m\u001b[0mcolumns\u001b[0m\u001b[0;34m.\u001b[0m\u001b[0mget_loc\u001b[0m\u001b[0;34m(\u001b[0m\u001b[0mkey\u001b[0m\u001b[0;34m)\u001b[0m\u001b[0;34m\u001b[0m\u001b[0;34m\u001b[0m\u001b[0m\n\u001b[0m\u001b[1;32m   2801\u001b[0m             \u001b[0;32mif\u001b[0m \u001b[0mis_integer\u001b[0m\u001b[0;34m(\u001b[0m\u001b[0mindexer\u001b[0m\u001b[0;34m)\u001b[0m\u001b[0;34m:\u001b[0m\u001b[0;34m\u001b[0m\u001b[0;34m\u001b[0m\u001b[0m\n\u001b[1;32m   2802\u001b[0m                 \u001b[0mindexer\u001b[0m \u001b[0;34m=\u001b[0m \u001b[0;34m[\u001b[0m\u001b[0mindexer\u001b[0m\u001b[0;34m]\u001b[0m\u001b[0;34m\u001b[0m\u001b[0;34m\u001b[0m\u001b[0m\n",
      "\u001b[0;32m~/anaconda3/envs/dev/lib/python3.6/site-packages/pandas/core/indexes/base.py\u001b[0m in \u001b[0;36mget_loc\u001b[0;34m(self, key, method, tolerance)\u001b[0m\n\u001b[1;32m   2644\u001b[0m                 )\n\u001b[1;32m   2645\u001b[0m             \u001b[0;32mtry\u001b[0m\u001b[0;34m:\u001b[0m\u001b[0;34m\u001b[0m\u001b[0;34m\u001b[0m\u001b[0m\n\u001b[0;32m-> 2646\u001b[0;31m                 \u001b[0;32mreturn\u001b[0m \u001b[0mself\u001b[0m\u001b[0;34m.\u001b[0m\u001b[0m_engine\u001b[0m\u001b[0;34m.\u001b[0m\u001b[0mget_loc\u001b[0m\u001b[0;34m(\u001b[0m\u001b[0mkey\u001b[0m\u001b[0;34m)\u001b[0m\u001b[0;34m\u001b[0m\u001b[0;34m\u001b[0m\u001b[0m\n\u001b[0m\u001b[1;32m   2647\u001b[0m             \u001b[0;32mexcept\u001b[0m \u001b[0mKeyError\u001b[0m\u001b[0;34m:\u001b[0m\u001b[0;34m\u001b[0m\u001b[0;34m\u001b[0m\u001b[0m\n\u001b[1;32m   2648\u001b[0m                 \u001b[0;32mreturn\u001b[0m \u001b[0mself\u001b[0m\u001b[0;34m.\u001b[0m\u001b[0m_engine\u001b[0m\u001b[0;34m.\u001b[0m\u001b[0mget_loc\u001b[0m\u001b[0;34m(\u001b[0m\u001b[0mself\u001b[0m\u001b[0;34m.\u001b[0m\u001b[0m_maybe_cast_indexer\u001b[0m\u001b[0;34m(\u001b[0m\u001b[0mkey\u001b[0m\u001b[0;34m)\u001b[0m\u001b[0;34m)\u001b[0m\u001b[0;34m\u001b[0m\u001b[0;34m\u001b[0m\u001b[0m\n",
      "\u001b[0;32mpandas/_libs/index.pyx\u001b[0m in \u001b[0;36mpandas._libs.index.IndexEngine.get_loc\u001b[0;34m()\u001b[0m\n",
      "\u001b[0;32mpandas/_libs/index.pyx\u001b[0m in \u001b[0;36mpandas._libs.index.IndexEngine.get_loc\u001b[0;34m()\u001b[0m\n",
      "\u001b[0;31mTypeError\u001b[0m: '(slice(None, None, None), 1)' is an invalid key"
     ]
    }
   ],
   "source": [
    "from cycler import cycler\n",
    "import random\n",
    " \n",
    "def generate_rgb_list(n):\n",
    "    ret = []\n",
    "    r = int(random.random() * 255)\n",
    "    g = int(random.random() * 255)\n",
    "    b = int(random.random() * 255)\n",
    "    step = 255 / n\n",
    "    for i in range(n):\n",
    "        r += step\n",
    "        g += step\n",
    "        b += step\n",
    "        r = int(r) % 255\n",
    "        g = int(g) % 255\n",
    "        b = int(b) % 255\n",
    "        ret.append((r/255.0,g/255.0,b/255.0)) \n",
    "    return ret\n",
    "\n",
    "def rgb_to_hex(rgb):\n",
    "    return matplotlib.colors.to_hex(rgb)\n",
    "\n",
    "colors = generate_rgb_list(clusters.max()+2)\n",
    "\n",
    "legend_list = [i for i in range(-1, clusters.max() + 1)]\n",
    "legend_str_list = ['Кластер ' + str(i) for i in range(-1, clusters.max() + 1)]\n",
    "legend_str_list[0] = 'Шум'\n",
    "\n",
    "color_map = {legend_list[i]:colors[i] for i in range(clusters.max() + 2)}\n",
    "color_map[-1] = (0.85, 0.85, 0.85)\n",
    "# print(color_map)\n",
    "cvec = [color_map[cluster] for cluster in clusters]\n",
    "# print(cvec)\n",
    "\n",
    "# marker_map = {legend_list[i]:'o' for i in range(clusters.max() + 2)}\n",
    "# marker_map[-1] = 'D'\n",
    "# print(marker_map)\n",
    "\n",
    "# scatter_plt_list = [plt.scatter(tfidf_df['tsne_coord_1'], tfidf_df['tsne_coord_2'], \n",
    "#                                 color=color_map[i]) for i in range(-1, clusters.max() + 1)]\n",
    "\n",
    "scatter_plt_list = [plt.scatter(tsne_df[:,1], tsne_df[:,2], \n",
    "                                color=color_map[i]) for i in range(-1, clusters.max() + 1)]\n",
    "\n",
    "\n",
    "fig = plt.figure(num='Кластеризованный датасет', figsize=(16,10))\n",
    "\n",
    "plt.scatter(tsne_df[:,1],lsa_visual_results[:,2], c=cvec)\n",
    "plt.title('Кластеризованный датасет по DBSCAN')\n",
    "plt.xlabel('Преобразованные координаты x')\n",
    "plt.ylabel('Преобразованные координаты y')\n",
    "\n",
    "legend_tuple = (i for i in scatter_plt_list)\n",
    "\n",
    "plt.legend(legend_tuple, (i for i in legend_str_list))\n",
    "plt.show()\n",
    "# sns.scatterplot(\n",
    "#     x=\"tsne_coord_1\", y=\"tsne_coord_2\",\n",
    "#     hue=\"cluster\",\n",
    "#     palette=sns.color_palette(\"Greens\", n_colors=clusters.max()+2), \n",
    "#     data=tfidf_df,\n",
    "#     legend=\"full\",\n",
    "#     alpha=0.5\n",
    "# )\n",
    "\n",
    "# plt.figure(num='Некластеризованный/оригинальный датасет', figsize=(16,10))\n",
    "# sns.scatterplot(\n",
    "#     x=\"tsne-2d-one\", y=\"tsne-2d-two\",\n",
    "#     hue=\"rating\",\n",
    "#     palette=sns.color_palette(\"hls\", 2), \n",
    "#     data=tfidf_uncl_df,\n",
    "#     legend=\"full\",\n",
    "#     alpha=0.5\n",
    "# )"
   ]
  }
 ],
 "metadata": {
  "kernelspec": {
   "display_name": "Python 3",
   "language": "python",
   "name": "python3"
  },
  "language_info": {
   "codemirror_mode": {
    "name": "ipython",
    "version": 3
   },
   "file_extension": ".py",
   "mimetype": "text/x-python",
   "name": "python",
   "nbconvert_exporter": "python",
   "pygments_lexer": "ipython3",
   "version": "3.6.10"
  }
 },
 "nbformat": 4,
 "nbformat_minor": 4
}
